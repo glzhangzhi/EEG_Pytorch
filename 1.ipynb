{
 "cells": [
  {
   "cell_type": "code",
   "execution_count": 5,
   "metadata": {},
   "outputs": [],
   "source": [
    "from utils.datasets import ESR\n",
    "import numpy as np\n",
    "from tqdm import tqdm\n",
    "from utils.hopkins import get_H"
   ]
  },
  {
   "cell_type": "code",
   "execution_count": 2,
   "metadata": {},
   "outputs": [],
   "source": [
    "dataset = ESR('D:')"
   ]
  },
  {
   "cell_type": "code",
   "execution_count": 3,
   "metadata": {},
   "outputs": [
    {
     "name": "stderr",
     "output_type": "stream",
     "text": [
      "100%|██████████| 11500/11500 [00:47<00:00, 240.62it/s]\n"
     ]
    }
   ],
   "source": [
    "data = None\n",
    "for x, y in tqdm(dataset):\n",
    "    if data is None:\n",
    "        data = x.reshape(1, -1)\n",
    "    else:\n",
    "        data = np.vstack([data, x.reshape(1, -1)])"
   ]
  },
  {
   "cell_type": "code",
   "execution_count": 6,
   "metadata": {},
   "outputs": [
    {
     "data": {
      "text/plain": [
       "0.8052235874330721"
      ]
     },
     "execution_count": 6,
     "metadata": {},
     "output_type": "execute_result"
    }
   ],
   "source": [
    "get_H(data)"
   ]
  }
 ],
 "metadata": {
  "kernelspec": {
   "display_name": "eeg",
   "language": "python",
   "name": "python3"
  },
  "language_info": {
   "codemirror_mode": {
    "name": "ipython",
    "version": 3
   },
   "file_extension": ".py",
   "mimetype": "text/x-python",
   "name": "python",
   "nbconvert_exporter": "python",
   "pygments_lexer": "ipython3",
   "version": "3.10.8 | packaged by conda-forge | (main, Nov  4 2022, 13:42:51) [MSC v.1916 64 bit (AMD64)]"
  },
  "orig_nbformat": 4,
  "vscode": {
   "interpreter": {
    "hash": "644495febcff0865a32c49205569c929beaa627babbac369b06d1cddd7801011"
   }
  }
 },
 "nbformat": 4,
 "nbformat_minor": 2
}
